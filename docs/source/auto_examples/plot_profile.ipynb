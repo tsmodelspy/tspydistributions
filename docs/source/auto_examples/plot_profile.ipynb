{
  "cells": [
    {
      "cell_type": "markdown",
      "metadata": {},
      "source": [
        "\n# Demo: Profile Distribution\n"
      ]
    },
    {
      "cell_type": "code",
      "execution_count": null,
      "metadata": {
        "collapsed": false
      },
      "outputs": [],
      "source": [
        "from tspydistributions.api import Distribution\nfrom tspydistributions.pdqr import rsstd\nfrom plotnine import ggtitle, coord_cartesian\nx = rsstd(1000, mu = 0, sigma = 1, skew = 1, shape = 5)\nd = Distribution(name = 'sstd')\nf = d.estimate(x, type = 'FD')\ns = d.profile(sim = 50, size = [100, 200, 400, 800, 1000, 2000], num_workers = 4)\n\ns.summary()\n\nprint(s.plot(parameter='skew') + ggtitle('Profiled MSE for skew parameter') + coord_cartesian(ylim = (0.5, 2.0)))\nprint(s.plot(parameter='shape') + ggtitle('Profiled MSE for shape parameter') + coord_cartesian(ylim = (3, 20)))"
      ]
    }
  ],
  "metadata": {
    "kernelspec": {
      "display_name": "Python 3",
      "language": "python",
      "name": "python3"
    },
    "language_info": {
      "codemirror_mode": {
        "name": "ipython",
        "version": 3
      },
      "file_extension": ".py",
      "mimetype": "text/x-python",
      "name": "python",
      "nbconvert_exporter": "python",
      "pygments_lexer": "ipython3",
      "version": "3.10.11"
    }
  },
  "nbformat": 4,
  "nbformat_minor": 0
}