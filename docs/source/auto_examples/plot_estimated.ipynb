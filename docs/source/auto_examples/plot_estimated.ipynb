{
  "cells": [
    {
      "cell_type": "markdown",
      "metadata": {},
      "source": [
        "\n# Demo: API\n"
      ]
    },
    {
      "cell_type": "code",
      "execution_count": null,
      "metadata": {
        "collapsed": false
      },
      "outputs": [],
      "source": [
        "from tspydistributions import pdqr\nfrom tspydistributions import api\nimport numpy as np\n\n# Estimation and Summary\n# lamda = -0.5  == NIG distribution\nx = pdqr.rsgh(2000, mu = 0, sigma = 1, skew = 0.8, shape = 4, lamda = -0.5)\nd = api.Distribution(name = \"sgh\")\nf = d.estimate(x, fixed = {'lamda':-0.5})\nf.summary()\n\nprint(f.plot(type = 'density'))\nprint(f.plot(type = 'qq'))\n\n# Expectation: 5% Risk Measures\nvalue_at_risk = f.quantile(0.05)\nexpected_tail_loss = f.expectation(fun_str = \"np.abs(1)\", type = \"q\", lower = 0, upper = 0.05)/0.05\nprint(f'Value at Risk (5%): {round(value_at_risk[0], 4)}')\nprint(f'Expected Tail Loss (5%): {round(expected_tail_loss, 4)}')"
      ]
    }
  ],
  "metadata": {
    "kernelspec": {
      "display_name": "Python 3",
      "language": "python",
      "name": "python3"
    },
    "language_info": {
      "codemirror_mode": {
        "name": "ipython",
        "version": 3
      },
      "file_extension": ".py",
      "mimetype": "text/x-python",
      "name": "python",
      "nbconvert_exporter": "python",
      "pygments_lexer": "ipython3",
      "version": "3.10.11"
    }
  },
  "nbformat": 4,
  "nbformat_minor": 0
}