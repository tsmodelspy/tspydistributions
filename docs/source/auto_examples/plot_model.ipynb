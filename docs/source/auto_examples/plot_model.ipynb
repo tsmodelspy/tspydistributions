{
  "cells": [
    {
      "cell_type": "markdown",
      "metadata": {},
      "source": [
        "\n# Demo: Linear Model with Johnson's SU-distribution\n"
      ]
    },
    {
      "cell_type": "code",
      "execution_count": null,
      "metadata": {
        "collapsed": false
      },
      "outputs": [],
      "source": [
        "import torch\nimport numpy as np\nfrom scipy.optimize import minimize, Bounds\nimport tspydistributions.pdqr as pdqr\nfrom tspydistributions.density import djsu\nfrom tspydistributions.numderiv import get_hessian\nfrom tspydistributions.helpers import _distribution_bounds\nfrom tabulate import tabulate\nimport warnings\nwarnings.filterwarnings(\"ignore\")\n\n# generate some simulated data\nalpha = 0.1\nbeta = 0.5\nx = pdqr.rnorm(5000, mu = 0.01, sigma = 0.1, seed = 20)\ny = alpha + beta * x + pdqr.rjsu(5000, mu = 0, sigma = 0.25, skew = 1, shape = 5, seed = 20)\n\n# 1-stage estimation with no derivatives using the pdqr numpy functions\ndef nploglik(params, y, x):\n    alpha, beta, sigma, skew, shape = params\n    res = y - alpha - beta * x\n    f = pdqr.djsu(res, mu = 0.0, sigma = sigma, skew = skew, shape = shape, log=True)\n    return -np.sum(f)\n\nbounds = _distribution_bounds('jsu')\n\nlower = [float(-np.inf), float(-np.inf)] + bounds['lower'][1:4]\nupper = [float(np.inf), float(np.inf)] + bounds['upper'][1:4]\n\nresult_1 = minimize(nploglik, x0 = np.array([0, 1, 1, 2, 2]), args = (y, x), method = 'SLSQP', bounds = Bounds(lower, upper), options={'maxiter': 1000, 'ftol':1e-12,'finite_diff_rel_step':'2-point'})\n# calculate standard errors\nhess_fun_1 = lambda pars: nploglik(pars, y, x)\nhessian_1 = get_hessian(hess_fun_1, result_1.x, [-np.inf, -np.inf, 1e-12, -np.inf, 0.5], [np.inf, np.inf, np.inf, np.inf, np.inf])\nstd_errors_1 = np.sqrt(np.diag(np.linalg.inv(hessian_1)))\n\n\n# 1-stage estimation with derivatives using the torch density functions\n\ndef adloglik(params, y, x, out = 'loglik'):\n    #alpha, beta, sigma, skew, shape = params\n    res = y - params[0] - params[1] * x\n    parameters = torch.cat([torch.tensor([0.0]),params[2].unsqueeze(0),params[3].unsqueeze(0),params[4].unsqueeze(0)])\n    f = djsu(parameters, res, log = True)\n    if out == 'loglik':\n        pdf = -1.0 * f.sum()\n        pdf.backward()\n        grad_np = np.asanyarray(params.grad.numpy(), dtype=np.float64)\n        return [pdf.item(), grad_np]\n    else:\n        # for the hessian calculation\n        return -1.0 * f.sum()\n\nfun_2 = lambda pars: adloglik( params = torch.tensor(pars, dtype = torch.float64, requires_grad = True), y = torch.tensor(y), x = torch.tensor(x), out = 'loglik')\nresult_2 = minimize(fun_2, x0 = np.array([0, 1, 1, 2, 2]), jac=True, method = 'SLSQP', bounds = Bounds([-np.inf, -np.inf, 1e-12, -np.inf, 0.5], [np.inf, np.inf, np.inf, np.inf, np.inf]), options={'maxiter': 1000,'ftol':1e-12})\nfun_2 = lambda pars: adloglik(params = pars, y = torch.tensor(y), x = torch.tensor(x), out = 'hessian')\nhess_fun_2 = torch.func.hessian(fun_2)\noptimal_pars = torch.tensor(result_2.x, dtype = torch.float64)\nhessian_2 = hess_fun_2(optimal_pars)\nstd_errors_2 = np.sqrt(np.diag(np.linalg.inv(hessian_2)))\n\n# collect results and print results\nparameters_results = [\n    [\"True Parameters\", 0.1, 0.5, 0.25, 1, 5],\n    [\"1-stage estimation with no derivatives\", result_1.x[0], result_1.x[1], result_1.x[2], result_1.x[3], result_1.x[4]],\n    [\"1-stage estimation with derivatives\", result_2.x[0], result_2.x[1], result_2.x[2], result_2.x[3], result_2.x[4]]\n]\n\nparameters_table_headers = [\"Method\", \"Alpha\", \"Beta\", \"Sigma\", \"Skew\", \"Shape\"]\nparameters_table = tabulate(parameters_results, headers=parameters_table_headers, tablefmt=\"grid\")\n\n# Standard errors table\nstd_errors_results = [\n    [\"1-stage estimation with no derivatives\", std_errors_1[0], std_errors_1[1], std_errors_1[2], std_errors_1[3], std_errors_1[4]],\n    [\"1-stage estimation with derivatives\", std_errors_2[0], std_errors_2[1], std_errors_2[2], std_errors_2[3], std_errors_2[4]]\n]\n\nstd_errors_table_headers = [\"Method\", \"Std Error Alpha\", \"Std Error Beta\", \"Std Error Sigma\", \"Std Error Skew\", \"Std Error Shape\"]\nstd_errors_table = tabulate(std_errors_results, headers=std_errors_table_headers, tablefmt=\"grid\")\n\n# Print tables\nprint(\"Parameters:\")\nprint(parameters_table)\nprint(\"\\nStandard Errors:\")\nprint(std_errors_table)"
      ]
    }
  ],
  "metadata": {
    "kernelspec": {
      "display_name": "Python 3",
      "language": "python",
      "name": "python3"
    },
    "language_info": {
      "codemirror_mode": {
        "name": "ipython",
        "version": 3
      },
      "file_extension": ".py",
      "mimetype": "text/x-python",
      "name": "python",
      "nbconvert_exporter": "python",
      "pygments_lexer": "ipython3",
      "version": "3.10.11"
    }
  },
  "nbformat": 4,
  "nbformat_minor": 0
}