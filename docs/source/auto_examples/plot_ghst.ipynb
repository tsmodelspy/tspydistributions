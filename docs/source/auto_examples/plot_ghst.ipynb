{
  "cells": [
    {
      "cell_type": "markdown",
      "metadata": {},
      "source": [
        "\n# Demo: GHST Distribution\n"
      ]
    },
    {
      "cell_type": "code",
      "execution_count": null,
      "metadata": {
        "collapsed": false
      },
      "outputs": [],
      "source": [
        "from plotnine import ggplot, aes, geom_area\nfrom tspydistributions import pdqr\n\ndef ghst_left(x):\n    return pdqr.dsghst(x, mu=2, sigma=1, skew=-20, shape=10)[0]\n\ndef ghst_right(x):\n    return pdqr.dsghst(x, mu=-2, sigma=1, skew=20, shape=10)[0]\n\nplot = (ggplot(None,aes([-6,6])) + \n        geom_area(stat = \"function\", fun = ghst_left, fill = \"cadetblue\", alpha = 0.4, xlim = [-6, 6]) + \n        geom_area(stat = \"function\", fun = ghst_right, fill = \"darkgrey\", alpha = 0.4, xlim = [-6, 6]))\nprint(plot)"
      ]
    }
  ],
  "metadata": {
    "kernelspec": {
      "display_name": "Python 3",
      "language": "python",
      "name": "python3"
    },
    "language_info": {
      "codemirror_mode": {
        "name": "ipython",
        "version": 3
      },
      "file_extension": ".py",
      "mimetype": "text/x-python",
      "name": "python",
      "nbconvert_exporter": "python",
      "pygments_lexer": "ipython3",
      "version": "3.10.11"
    }
  },
  "nbformat": 4,
  "nbformat_minor": 0
}